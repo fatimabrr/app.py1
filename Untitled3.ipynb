{
  "nbformat": 4,
  "nbformat_minor": 0,
  "metadata": {
    "colab": {
      "provenance": [],
      "authorship_tag": "ABX9TyNenYbc+imtlHFOQtnesJGk",
      "include_colab_link": true
    },
    "kernelspec": {
      "name": "python3",
      "display_name": "Python 3"
    },
    "language_info": {
      "name": "python"
    }
  },
  "cells": [
    {
      "cell_type": "markdown",
      "metadata": {
        "id": "view-in-github",
        "colab_type": "text"
      },
      "source": [
        "<a href=\"https://colab.research.google.com/github/fatimabrr/app.py1/blob/main/Untitled3.ipynb\" target=\"_parent\"><img src=\"https://colab.research.google.com/assets/colab-badge.svg\" alt=\"Open In Colab\"/></a>"
      ]
    },
    {
      "cell_type": "code",
      "execution_count": 2,
      "metadata": {
        "colab": {
          "base_uri": "https://localhost:8080/"
        },
        "id": "ss5gG6LANBFO",
        "outputId": "bc607af8-715f-46cf-fedb-cefc150ecf9e"
      },
      "outputs": [
        {
          "name": "stdout",
          "output_type": "stream",
          "text": [
            "Select operation:\n",
            "1. Addition\n",
            "2. Subtraction\n",
            "3. Multiplication\n",
            "4. Division\n",
            "Enter choice (1/2/3/4): 1\n",
            "Enter first number: 10\n",
            "Enter second number: 20\n",
            "10.0 + 20.0 = 30.0\n",
            "Do you want to perform another calculation? (yes/no): no\n"
          ]
        }
      ],
      "source": [
        "import streamlit as st\n",
        "\n",
        "# Function to perform calculations\n",
        "def calculate(operation, num1, num2):\n",
        "    if operation == 'Addition':\n",
        "        return num1 + num2\n",
        "    elif operation == 'Subtraction':\n",
        "        return num1 - num2\n",
        "    elif operation == 'Multiplication':\n",
        "        return num1 * num2\n",
        "    elif operation == 'Division':\n",
        "        return num1 / num2 if num2 != 0 else \"Error: Division by zero\"\n",
        "    else:\n",
        "        return \"Invalid operation\"\n",
        "\n",
        "# Streamlit app title\n",
        "st.title(\"Simple Calculator\")\n",
        "\n",
        "# Input fields for numbers\n",
        "num1 = st.number_input(\"Enter first number\", step=1e-6, format=\"%.6f\")\n",
        "num2 = st.number_input(\"Enter second number\", step=1e-6, format=\"%.6f\")\n",
        "\n",
        "# Dropdown for selecting operation\n",
        "operation = st.selectbox(\"Choose operation\", ('Addition', 'Subtraction', 'Multiplication', 'Division'))\n",
        "\n",
        "# Button to perform calculation\n",
        "if st.button(\"Calculate\"):\n",
        "    result = calculate(operation, num1, num2)\n",
        "    st.write(f\"Result: {result}\")\n"
      ]
    }
  ]
}